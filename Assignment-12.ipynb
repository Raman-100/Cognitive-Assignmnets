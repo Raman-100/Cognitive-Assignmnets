{
  "cells": [
    {
      "cell_type": "code",
      "execution_count": null,
      "metadata": {
        "colab": {
          "base_uri": "https://localhost:8080/"
        },
        "id": "hK0LJdkF6Exv",
        "outputId": "53340820-01d7-4ece-d696-d1a0fb59763a"
      },
      "outputs": [
        {
          "name": "stdout",
          "output_type": "stream",
          "text": [
            "Requirement already satisfied: matplotlib-venn in /usr/local/lib/python3.11/dist-packages (1.1.2)\n",
            "Requirement already satisfied: matplotlib in /usr/local/lib/python3.11/dist-packages (from matplotlib-venn) (3.10.0)\n",
            "Requirement already satisfied: numpy in /usr/local/lib/python3.11/dist-packages (from matplotlib-venn) (2.0.2)\n",
            "Requirement already satisfied: scipy in /usr/local/lib/python3.11/dist-packages (from matplotlib-venn) (1.15.2)\n",
            "Requirement already satisfied: contourpy>=1.0.1 in /usr/local/lib/python3.11/dist-packages (from matplotlib->matplotlib-venn) (1.3.2)\n",
            "Requirement already satisfied: cycler>=0.10 in /usr/local/lib/python3.11/dist-packages (from matplotlib->matplotlib-venn) (0.12.1)\n",
            "Requirement already satisfied: fonttools>=4.22.0 in /usr/local/lib/python3.11/dist-packages (from matplotlib->matplotlib-venn) (4.57.0)\n",
            "Requirement already satisfied: kiwisolver>=1.3.1 in /usr/local/lib/python3.11/dist-packages (from matplotlib->matplotlib-venn) (1.4.8)\n",
            "Requirement already satisfied: packaging>=20.0 in /usr/local/lib/python3.11/dist-packages (from matplotlib->matplotlib-venn) (24.2)\n",
            "Requirement already satisfied: pillow>=8 in /usr/local/lib/python3.11/dist-packages (from matplotlib->matplotlib-venn) (11.2.1)\n",
            "Requirement already satisfied: pyparsing>=2.3.1 in /usr/local/lib/python3.11/dist-packages (from matplotlib->matplotlib-venn) (3.2.3)\n",
            "Requirement already satisfied: python-dateutil>=2.7 in /usr/local/lib/python3.11/dist-packages (from matplotlib->matplotlib-venn) (2.9.0.post0)\n",
            "Requirement already satisfied: six>=1.5 in /usr/local/lib/python3.11/dist-packages (from python-dateutil>=2.7->matplotlib->matplotlib-venn) (1.17.0)\n",
            "E: Package 'libfluidsynth1' has no installation candidate\n"
          ]
        }
      ],
      "source": [
        "!pip install matplotlib-venn\n",
        "!apt-get -qq install -y libfluidsynth1"
      ]
    },
    {
      "cell_type": "code",
      "execution_count": null,
      "metadata": {
        "colab": {
          "base_uri": "https://localhost:8080/"
        },
        "id": "n6yEyack6MEI",
        "outputId": "ba8ddbca-8916-4ca6-d935-f5e881f42a66"
      },
      "outputs": [
        {
          "name": "stdout",
          "output_type": "stream",
          "text": [
            "Selecting previously unselected package libarchive-dev:amd64.\n",
            "(Reading database ... 126102 files and directories currently installed.)\n",
            "Preparing to unpack .../libarchive-dev_3.6.0-1ubuntu1.4_amd64.deb ...\n",
            "Unpacking libarchive-dev:amd64 (3.6.0-1ubuntu1.4) ...\n",
            "Setting up libarchive-dev:amd64 (3.6.0-1ubuntu1.4) ...\n",
            "Processing triggers for man-db (2.10.2-1) ...\n",
            "Collecting libarchive\n",
            "  Downloading libarchive-0.4.7.tar.gz (23 kB)\n",
            "  Preparing metadata (setup.py) ... \u001b[?25l\u001b[?25hdone\n",
            "Collecting nose (from libarchive)\n",
            "  Downloading nose-1.3.7-py3-none-any.whl.metadata (1.7 kB)\n",
            "Downloading nose-1.3.7-py3-none-any.whl (154 kB)\n",
            "\u001b[2K   \u001b[90m━━━━━━━━━━━━━━━━━━━━━━━━━━━━━━━━━━━━━━━━\u001b[0m \u001b[32m154.7/154.7 kB\u001b[0m \u001b[31m4.6 MB/s\u001b[0m eta \u001b[36m0:00:00\u001b[0m\n",
            "\u001b[?25hBuilding wheels for collected packages: libarchive\n",
            "  Building wheel for libarchive (setup.py) ... \u001b[?25l\u001b[?25hdone\n",
            "  Created wheel for libarchive: filename=libarchive-0.4.7-py3-none-any.whl size=31629 sha256=d69cb4891d1da4c2190a57e69399a58a5a180b0ba340d4a53c74016d60cbbb8b\n",
            "  Stored in directory: /root/.cache/pip/wheels/32/98/bd/4893d6923dd027f455b250367d402bfd69a6f4416581df46db\n",
            "Successfully built libarchive\n",
            "Installing collected packages: nose, libarchive\n",
            "Successfully installed libarchive-0.4.7 nose-1.3.7\n"
          ]
        }
      ],
      "source": [
        "# https://pypi.python.org/pypi/libarchive\n",
        "!apt-get -qq install -y libarchive-dev && pip install -U libarchive\n",
        "import libarchive"
      ]
    },
    {
      "cell_type": "code",
      "execution_count": null,
      "metadata": {
        "colab": {
          "base_uri": "https://localhost:8080/"
        },
        "id": "4vHDocEJ6Oao",
        "outputId": "acadb5a5-ac62-4246-cd89-130532225474"
      },
      "outputs": [
        {
          "name": "stdout",
          "output_type": "stream",
          "text": [
            "Requirement already satisfied: pydot in /usr/local/lib/python3.11/dist-packages (3.0.4)\n",
            "Requirement already satisfied: pyparsing>=3.0.9 in /usr/local/lib/python3.11/dist-packages (from pydot) (3.2.3)\n"
          ]
        }
      ],
      "source": [
        "# https://pypi.python.org/pypi/pydot\n",
        "!apt-get -qq install -y graphviz && pip install pydot\n",
        "import pydot"
      ]
    },
    {
      "cell_type": "code",
      "execution_count": null,
      "metadata": {
        "colab": {
          "base_uri": "https://localhost:8080/"
        },
        "id": "GmzQssWi6QWV",
        "outputId": "f6d41331-6270-46a3-c8c6-50085542949a"
      },
      "outputs": [
        {
          "name": "stdout",
          "output_type": "stream",
          "text": [
            "Collecting cartopy\n",
            "  Downloading Cartopy-0.24.1-cp311-cp311-manylinux_2_17_x86_64.manylinux2014_x86_64.whl.metadata (7.9 kB)\n",
            "Requirement already satisfied: numpy>=1.23 in /usr/local/lib/python3.11/dist-packages (from cartopy) (2.0.2)\n",
            "Requirement already satisfied: matplotlib>=3.6 in /usr/local/lib/python3.11/dist-packages (from cartopy) (3.10.0)\n",
            "Requirement already satisfied: shapely>=1.8 in /usr/local/lib/python3.11/dist-packages (from cartopy) (2.1.0)\n",
            "Requirement already satisfied: packaging>=21 in /usr/local/lib/python3.11/dist-packages (from cartopy) (24.2)\n",
            "Requirement already satisfied: pyshp>=2.3 in /usr/local/lib/python3.11/dist-packages (from cartopy) (2.3.1)\n",
            "Requirement already satisfied: pyproj>=3.3.1 in /usr/local/lib/python3.11/dist-packages (from cartopy) (3.7.1)\n",
            "Requirement already satisfied: contourpy>=1.0.1 in /usr/local/lib/python3.11/dist-packages (from matplotlib>=3.6->cartopy) (1.3.2)\n",
            "Requirement already satisfied: cycler>=0.10 in /usr/local/lib/python3.11/dist-packages (from matplotlib>=3.6->cartopy) (0.12.1)\n",
            "Requirement already satisfied: fonttools>=4.22.0 in /usr/local/lib/python3.11/dist-packages (from matplotlib>=3.6->cartopy) (4.57.0)\n",
            "Requirement already satisfied: kiwisolver>=1.3.1 in /usr/local/lib/python3.11/dist-packages (from matplotlib>=3.6->cartopy) (1.4.8)\n",
            "Requirement already satisfied: pillow>=8 in /usr/local/lib/python3.11/dist-packages (from matplotlib>=3.6->cartopy) (11.2.1)\n",
            "Requirement already satisfied: pyparsing>=2.3.1 in /usr/local/lib/python3.11/dist-packages (from matplotlib>=3.6->cartopy) (3.2.3)\n",
            "Requirement already satisfied: python-dateutil>=2.7 in /usr/local/lib/python3.11/dist-packages (from matplotlib>=3.6->cartopy) (2.9.0.post0)\n",
            "Requirement already satisfied: certifi in /usr/local/lib/python3.11/dist-packages (from pyproj>=3.3.1->cartopy) (2025.4.26)\n",
            "Requirement already satisfied: six>=1.5 in /usr/local/lib/python3.11/dist-packages (from python-dateutil>=2.7->matplotlib>=3.6->cartopy) (1.17.0)\n",
            "Downloading Cartopy-0.24.1-cp311-cp311-manylinux_2_17_x86_64.manylinux2014_x86_64.whl (11.7 MB)\n",
            "\u001b[2K   \u001b[90m━━━━━━━━━━━━━━━━━━━━━━━━━━━━━━━━━━━━━━━━\u001b[0m \u001b[32m11.7/11.7 MB\u001b[0m \u001b[31m48.1 MB/s\u001b[0m eta \u001b[36m0:00:00\u001b[0m\n",
            "\u001b[?25hInstalling collected packages: cartopy\n",
            "Successfully installed cartopy-0.24.1\n"
          ]
        }
      ],
      "source": [
        "!pip install cartopy\n",
        "import cartopy"
      ]
    },
    {
      "cell_type": "code",
      "execution_count": null,
      "metadata": {
        "collapsed": true,
        "id": "FqcFDCAn4oes"
      },
      "outputs": [],
      "source": [
        "import nltk\n",
        "nltk.download('punkt')\n",
        "nltk.download('wordnet')\n",
        "from chatterbot import ChatBot\n",
        "from chatterbot.trainers import ListTrainer\n",
        "\n",
        "# Create chatbot instance with storage adapter and database URI\n",
        "chatbot = ChatBot(\n",
        "    'HealthBot',\n",
        "    storage_adapter='chatterbot.storage.SQLStorageAdapter',\n",
        "    database_uri='sqlite:///healthbot_database.sqlite3',\n",
        "    logic_adapters=[\n",
        "        'chatterbot.logic.BestMatch'\n",
        "    ],\n",
        "    read_only=True\n",
        ")\n",
        "\n",
        "conversation = [\n",
        "    \"Hi\",\n",
        "    \"Hello! I am HealthBot. How can I assist you today?\",\n",
        "    \"Hello\",\n",
        "    \"Hi! Do you have a health-related question?\",\n",
        "    \"I have a headache\",\n",
        "    \"You should rest, stay hydrated, and take a mild pain reliever if needed.\",\n",
        "    \"What should I do if I have a fever?\",\n",
        "    \"Drink plenty of fluids and rest. If the fever persists, please consult a doctor.\",\n",
        "    \"I feel dizzy\",\n",
        "    \"Sit down, breathe deeply, and drink water. If it continues, seek medical help.\",\n",
        "    \"What should I eat for a cold?\",\n",
        "    \"Warm fluids, soups, citrus fruits, and light meals help during a cold.\",\n",
        "    \"How to stay healthy?\",\n",
        "    \"Eat balanced meals, exercise regularly, stay hydrated, and get enough sleep.\",\n",
        "    \"What should I do in case of a cut?\",\n",
        "    \"Clean the wound with water, apply antiseptic, and cover it with a clean bandage.\",\n",
        "    \"How much water should I drink daily?\",\n",
        "    \"Generally, 2 to 3 liters per day is recommended, but it varies based on your activity.\",\n",
        "    \"Thank you\",\n",
        "    \"You're welcome! Take care.\",\n",
        "    \"Bye\",\n",
        "    \"Goodbye! Stay healthy.\"\n",
        "]\n",
        "\n",
        "trainer = ListTrainer(chatbot)\n",
        "trainer.train(conversation)\n",
        "\n",
        "print(\"HealthBot is ready! Type 'bye' to exit.\")\n",
        "\n",
        "while True:\n",
        "    query = input(\"You: \")\n",
        "    if query.lower() == 'bye':\n",
        "        print(\"HealthBot: Goodbye! Stay healthy.\")\n",
        "        break\n",
        "    response = chatbot.get_response(query)\n",
        "    print(\"HealthBot:\", response)\n"
      ]
    },
    {
      "cell_type": "markdown",
      "metadata": {
        "id": "TPZTulG86sqd"
      },
      "source": [
        "List Trainer: 22it [00:00, 887.25it/s]\n",
        "\n",
        "HealthBot is ready! Type 'bye' to exit.\n",
        "\n",
        "You: Hi\n",
        "\n",
        "HealthBot: Hello! I am HealthBot. How can I assist you today?\n",
        "\n",
        "You: Hello\n",
        "\n",
        "HealthBot: Hi! Do you have a health-related question?\n",
        "\n",
        "You: I have a headache\n",
        "\n",
        "HealthBot: You should rest, stay hydrated, and take a mild pain reliever if needed.\n",
        "\n",
        "You: What should I do if I have a fever?\n",
        "\n",
        "HealthBot: Drink plenty of fluids and rest. If the fever persists, please consult a doctor.\n",
        "\n",
        "You: I feel dizzy\n",
        "\n",
        "HealthBot: Sit down, breathe deeply, and drink water. If it continues, seek medical help.\n",
        "\n",
        "You: What should I eat for a cold?\n",
        "\n",
        "HealthBot: Warm fluids, soups, citrus fruits, and light meals help during a cold.\n",
        "\n",
        "You: How to stay healthy?\n",
        "\n",
        "HealthBot: Eat balanced meals, exercise regularly, stay hydrated, and get enough sleep.\n",
        "\n",
        "You: What should I do in case of a cut?\n",
        "\n",
        "HealthBot: Clean the wound with water, apply antiseptic, and cover it with a clean bandage.\n",
        "\n",
        "You: How much water should I drink daily?\n",
        "\n",
        "HealthBot: Generally, 2 to 3 liters per day is recommended, but it varies based on your activity.\n",
        "\n",
        "You: Thank you\n",
        "\n",
        "HealthBot: You're welcome! Take care.\n",
        "\n",
        "You: Bye\n",
        "\n",
        "HealthBot: Goodbye! Stay healthy."
      ]
    }
  ],
  "metadata": {
    "colab": {
      "provenance": []
    },
    "kernelspec": {
      "display_name": "Python 3",
      "name": "python3"
    },
    "language_info": {
      "name": "python"
    }
  },
  "nbformat": 4,
  "nbformat_minor": 0
}
