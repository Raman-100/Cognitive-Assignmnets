{
 "cells": [
  {
   "cell_type": "code",
   "execution_count": null,
   "metadata": {
    "colab": {
     "base_uri": "https://localhost:8080/"
    },
    "executionInfo": {
     "elapsed": 420,
     "status": "ok",
     "timestamp": 1736351588673,
     "user": {
      "displayName": "RAMANDEEP SINGH",
      "userId": "09094117199403184758"
     },
     "user_tz": -330
    },
    "id": "oYFSgQRnk14z",
    "outputId": "946a618f-d726-4359-99e0-42545659018e"
   },
   "outputs": [
    {
     "name": "stdout",
     "output_type": "stream",
     "text": [
      "2 + 3 + 4 = 9\n"
     ]
    }
   ],
   "source": [
    "#WAP to add three numbers\n",
    "a = 2\n",
    "b = 3\n",
    "c = 4\n",
    "d = a+b+c\n",
    "print(a,\"+\",b,\"+\",c,\"=\",d)"
   ]
  },
  {
   "cell_type": "code",
   "execution_count": null,
   "metadata": {
    "colab": {
     "base_uri": "https://localhost:8080/"
    },
    "executionInfo": {
     "elapsed": 387,
     "status": "ok",
     "timestamp": 1736351729333,
     "user": {
      "displayName": "RAMANDEEP SINGH",
      "userId": "09094117199403184758"
     },
     "user_tz": -330
    },
    "id": "3xKQ2qM2nqgT",
    "outputId": "bf454c3e-0473-4f69-8602-4c72ad494d1b"
   },
   "outputs": [
    {
     "name": "stdout",
     "output_type": "stream",
     "text": [
      "Thapar  + Institute  + of Technology = Thapar Institute of Technology\n"
     ]
    }
   ],
   "source": [
    "#WAP to concatinate three strings\n",
    "a = \"Thapar \"\n",
    "b = \"Institute \"\n",
    "c = \"of Technology\"\n",
    "d = a+b+c\n",
    "print(a,\"+\",b,\"+\",c,\"=\",d)"
   ]
  },
  {
   "cell_type": "code",
   "execution_count": null,
   "metadata": {
    "colab": {
     "base_uri": "https://localhost:8080/"
    },
    "executionInfo": {
     "elapsed": 383,
     "status": "ok",
     "timestamp": 1736353008673,
     "user": {
      "displayName": "RAMANDEEP SINGH",
      "userId": "09094117199403184758"
     },
     "user_tz": -330
    },
    "id": "tE4u24YLsRT2",
    "outputId": "dc7ab2ad-1b82-4382-aa5e-96fa8e075426"
   },
   "outputs": [
    {
     "name": "stdout",
     "output_type": "stream",
     "text": [
      "7 x 1 = 7\n",
      "7 x 2 = 14\n",
      "7 x 3 = 21\n",
      "7 x 4 = 28\n",
      "7 x 5 = 35\n",
      "7 x 6 = 42\n",
      "7 x 7 = 49\n",
      "7 x 8 = 56\n",
      "7 x 9 = 63\n",
      "7 x 10 = 70\n",
      "\n",
      "9 x 1 = 9\n",
      "9 x 2 = 18\n",
      "9 x 3 = 27\n",
      "9 x 4 = 36\n",
      "9 x 5 = 45\n",
      "9 x 6 = 54\n",
      "9 x 7 = 63\n",
      "9 x 8 = 72\n",
      "9 x 9 = 81\n",
      "9 x 10 = 90\n"
     ]
    }
   ],
   "source": [
    "#WAP table of 7,9\n",
    "for i in range(1,11):\n",
    "  print(7,'x',i,'=',7*i)\n",
    "print()\n",
    "for j in range(1,11):\n",
    "  print(9,'x',j,'=',9*j)"
   ]
  },
  {
   "cell_type": "code",
   "execution_count": null,
   "metadata": {
    "colab": {
     "base_uri": "https://localhost:8080/"
    },
    "executionInfo": {
     "elapsed": 3331,
     "status": "ok",
     "timestamp": 1736353088914,
     "user": {
      "displayName": "RAMANDEEP SINGH",
      "userId": "09094117199403184758"
     },
     "user_tz": -330
    },
    "id": "5z9H8WsStHTo",
    "outputId": "33704462-b2aa-4201-9fb6-314cfbe09bb2"
   },
   "outputs": [
    {
     "name": "stdout",
     "output_type": "stream",
     "text": [
      "Enter the number: 3\n",
      "3 x 1 = 3\n",
      "3 x 2 = 6\n",
      "3 x 3 = 9\n",
      "3 x 4 = 12\n",
      "3 x 5 = 15\n",
      "3 x 6 = 18\n",
      "3 x 7 = 21\n",
      "3 x 8 = 24\n",
      "3 x 9 = 27\n",
      "3 x 10 = 30\n"
     ]
    }
   ],
   "source": [
    "#WAP to print n table\n",
    "n = int(input(\"Enter the number: \"))\n",
    "for i in range(1,11):\n",
    "  print(n,'x',i,'=',n*i)"
   ]
  },
  {
   "cell_type": "code",
   "execution_count": null,
   "metadata": {
    "colab": {
     "base_uri": "https://localhost:8080/"
    },
    "executionInfo": {
     "elapsed": 3387,
     "status": "ok",
     "timestamp": 1736353247142,
     "user": {
      "displayName": "RAMANDEEP SINGH",
      "userId": "09094117199403184758"
     },
     "user_tz": -330
    },
    "id": "2Eq5002FtavE",
    "outputId": "31f51c58-ccbd-400b-9b23-14e87897e152"
   },
   "outputs": [
    {
     "name": "stdout",
     "output_type": "stream",
     "text": [
      "Enter the number: 5\n",
      "15\n"
     ]
    }
   ],
   "source": [
    "#WAP to add n numbers\n",
    "n = int(input(\"Enter the number: \"))\n",
    "sum = 0\n",
    "for i in range(1,n+1):\n",
    "  sum = sum+i\n",
    "print(sum)"
   ]
  },
  {
   "cell_type": "code",
   "execution_count": null,
   "metadata": {
    "colab": {
     "base_uri": "https://localhost:8080/"
    },
    "executionInfo": {
     "elapsed": 2363,
     "status": "ok",
     "timestamp": 1736354269332,
     "user": {
      "displayName": "RAMANDEEP SINGH",
      "userId": "09094117199403184758"
     },
     "user_tz": -330
    },
    "id": "uBuztHC3t_ct",
    "outputId": "f59ea36e-3846-4ca3-831c-aedc44482b19"
   },
   "outputs": [
    {
     "name": "stdout",
     "output_type": "stream",
     "text": [
      "Enter the number: 4\n",
      "Not prime\n"
     ]
    }
   ],
   "source": [
    "#WAP to check prime\n",
    "\n",
    "def prime(n):\n",
    "  if n<=1:\n",
    "    return False\n",
    "\n",
    "  for i in range(2,n//2+1):\n",
    "    if n%i == 0:\n",
    "      return False\n",
    "\n",
    "  return True\n",
    "\n",
    "n = int(input(\"Enter the number: \"))\n",
    "if(prime(n)):\n",
    "  print('Number is prime')\n",
    "else:\n",
    "  print('Not prime')\n"
   ]
  },
  {
   "cell_type": "code",
   "execution_count": 9,
   "metadata": {
    "colab": {
     "base_uri": "https://localhost:8080/"
    },
    "executionInfo": {
     "elapsed": 3770,
     "status": "ok",
     "timestamp": 1736490087416,
     "user": {
      "displayName": "RAMANDEEP SINGH",
      "userId": "09094117199403184758"
     },
     "user_tz": -330
    },
    "id": "lH1ifUl_097v",
    "outputId": "4c4c331b-760c-42fc-e7f5-3d8e1045a2b1"
   },
   "outputs": [
    {
     "name": "stdout",
     "output_type": "stream",
     "text": [
      "Enter the range: 5\n",
      "10\n"
     ]
    }
   ],
   "source": [
    "#WAP to add all prime numbers from 1 to n\n",
    "\n",
    "n = int(input('Enter the range: '))\n",
    "sum = 0\n",
    "for i in range(2,n+1):\n",
    "  flag = True\n",
    "  for j in range(2,i//2+1):\n",
    "    if i%j == 0:\n",
    "      flag = False\n",
    "      break\n",
    "  if flag:\n",
    "    sum = sum+i\n",
    "\n",
    "print(sum)\n",
    "\n"
   ]
  },
  {
   "cell_type": "code",
   "execution_count": null,
   "metadata": {
    "colab": {
     "base_uri": "https://localhost:8080/"
    },
    "executionInfo": {
     "elapsed": 3024,
     "status": "ok",
     "timestamp": 1736364712353,
     "user": {
      "displayName": "RAMANDEEP SINGH",
      "userId": "09094117199403184758"
     },
     "user_tz": -330
    },
    "id": "ih-ioYmCx9sX",
    "outputId": "2aa3db77-20da-49f2-ce5c-72bb8cd99a42"
   },
   "outputs": [
    {
     "name": "stdout",
     "output_type": "stream",
     "text": [
      "Enter the number: 6\n",
      "Sum is 9\n"
     ]
    }
   ],
   "source": [
    "#WAP add odd number in range\n",
    "\n",
    "def addn(n):\n",
    "  total_sum = 0\n",
    "  for i in range(1,n+1):\n",
    "    if i%2 != 0:\n",
    "      total_sum = total_sum+i\n",
    "  return total_sum\n",
    "\n",
    "a = int(input(\"Enter the number: \"))\n",
    "print('Sum is', addn(a))"
   ]
  },
  {
   "cell_type": "code",
   "execution_count": 1,
   "metadata": {
    "colab": {
     "base_uri": "https://localhost:8080/"
    },
    "executionInfo": {
     "elapsed": 9902,
     "status": "ok",
     "timestamp": 1736480051064,
     "user": {
      "displayName": "RAMANDEEP SINGH",
      "userId": "09094117199403184758"
     },
     "user_tz": -330
    },
    "id": "TScQIul7Z2ny",
    "outputId": "cc811336-aaf4-4072-9802-bda9a093a6b0"
   },
   "outputs": [
    {
     "name": "stdout",
     "output_type": "stream",
     "text": [
      "Enter the first number: 3\n",
      "Enter the second number: 4\n",
      "Enter the third number: 6\n",
      "Max is 6\n"
     ]
    }
   ],
   "source": [
    "#WAP to Max\n",
    "\n",
    "def max(a,b,c):\n",
    "  if a>b and a>c:\n",
    "    return a\n",
    "  elif b>a and b>c:\n",
    "    return b\n",
    "  else:\n",
    "    return c\n",
    "\n",
    "a = int(input(\"Enter the first number: \"))\n",
    "b = int(input(\"Enter the second number: \"))\n",
    "c = int(input(\"Enter the third number: \"))\n",
    "print('Max is', max(a,b,c))"
   ]
  },
  {
   "cell_type": "code",
   "execution_count": null,
   "metadata": {
    "id": "CgffyHwzTOrE"
   },
   "outputs": [],
   "source": [
    "#WAP to add all numbers divisible by 7 and 9\n",
    "n = int(input(\"Enter the range: \"))\n",
    "sum = 0\n",
    "for i in range(1,n):\n",
    "  if i%7==0 and i%9==0:\n",
    "    print(i)\n",
    "    sum = sum+i\n",
    "print(sum)"
   ]
  },
  {
   "cell_type": "code",
   "execution_count": 11,
   "metadata": {
    "colab": {
     "base_uri": "https://localhost:8080/"
    },
    "executionInfo": {
     "elapsed": 4504,
     "status": "ok",
     "timestamp": 1736490288677,
     "user": {
      "displayName": "RAMANDEEP SINGH",
      "userId": "09094117199403184758"
     },
     "user_tz": -330
    },
    "id": "ehGd1edM4OmW",
    "outputId": "b136099b-5f8f-42dc-9a7f-8c56b1d1bfac"
   },
   "outputs": [
    {
     "name": "stdout",
     "output_type": "stream",
     "text": [
      "Enter the range: 5\n",
      "Sum is:  9\n"
     ]
    }
   ],
   "source": [
    "#WAP to add all odd numbers using function\n",
    "\n",
    "def addn(n):\n",
    "  sum = 0\n",
    "  for i in range(1,n+1):\n",
    "    if i%2!=0:\n",
    "      sum = sum+i\n",
    "  return sum\n",
    "\n",
    "n = int(input(\"Enter the range: \"))\n",
    "print(\"Sum is: \", addn(n))"
   ]
  },
  {
   "cell_type": "code",
   "execution_count": 16,
   "metadata": {
    "colab": {
     "base_uri": "https://localhost:8080/"
    },
    "executionInfo": {
     "elapsed": 3915,
     "status": "ok",
     "timestamp": 1736490929376,
     "user": {
      "displayName": "RAMANDEEP SINGH",
      "userId": "09094117199403184758"
     },
     "user_tz": -330
    },
    "id": "FrIY2r0o40AB",
    "outputId": "2558aca4-5f01-49a1-f518-0c718038fc42"
   },
   "outputs": [
    {
     "name": "stdout",
     "output_type": "stream",
     "text": [
      "Enter the range: 5\n",
      "Total is:  10\n"
     ]
    }
   ],
   "source": [
    "#WAP to add all prime using function\n",
    "\n",
    "def addn(n):\n",
    "  sum = 0\n",
    "  for i in range(2,n+1):\n",
    "    flag = True\n",
    "    for j in range(2,i//2+1):\n",
    "      if i%j==0:\n",
    "        flag = False\n",
    "        break\n",
    "    if flag:\n",
    "      sum = sum+i\n",
    "  return sum\n",
    "\n",
    "n = int(input(\"Enter the range: \"))\n",
    "print(\"Total is: \", addn(n))\n"
   ]
  }
 ],
 "metadata": {
  "colab": {
   "authorship_tag": "ABX9TyP5Lflf77nr5BnQbVgLrLKP",
   "provenance": []
  },
  "kernelspec": {
   "display_name": "Python 3",
   "name": "python3"
  },
  "language_info": {
   "name": "python"
  }
 },
 "nbformat": 4,
 "nbformat_minor": 0
}
