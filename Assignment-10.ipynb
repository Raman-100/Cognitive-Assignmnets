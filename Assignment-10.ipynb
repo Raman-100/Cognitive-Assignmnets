{
  "cells": [
    {
      "cell_type": "code",
      "execution_count": null,
      "metadata": {
        "colab": {
          "base_uri": "https://localhost:8080/",
          "height": 591
        },
        "id": "PSrkTF9J9Kyd",
        "outputId": "b0ba8c1a-ad2c-44c0-fc6e-9ffed417382b"
      },
      "outputs": [
        {
          "name": "stdout",
          "output_type": "stream",
          "text": [
            "Requirement already satisfied: nltk in /usr/local/lib/python3.11/dist-packages (3.9.1)\n",
            "Requirement already satisfied: click in /usr/local/lib/python3.11/dist-packages (from nltk) (8.1.8)\n",
            "Requirement already satisfied: joblib in /usr/local/lib/python3.11/dist-packages (from nltk) (1.4.2)\n",
            "Requirement already satisfied: regex>=2021.8.3 in /usr/local/lib/python3.11/dist-packages (from nltk) (2024.11.6)\n",
            "Requirement already satisfied: tqdm in /usr/local/lib/python3.11/dist-packages (from nltk) (4.67.1)\n"
          ]
        },
        {
          "name": "stderr",
          "output_type": "stream",
          "text": [
            "[nltk_data] Downloading package punkt to /root/nltk_data...\n",
            "[nltk_data]   Package punkt is already up-to-date!\n",
            "[nltk_data] Downloading package punkt_tab to /root/nltk_data...\n",
            "[nltk_data]   Unzipping tokenizers/punkt_tab.zip.\n"
          ]
        },
        {
          "name": "stdout",
          "output_type": "stream",
          "text": [
            "3.9.1\n",
            "/content\n",
            "Created directory: drive/nltk_data/tokenizers\n",
            "NLTK path updated!\n"
          ]
        },
        {
          "ename": "FileNotFoundError",
          "evalue": "[Errno 2] No such file or directory: 'punkt.zip'",
          "output_type": "error",
          "traceback": [
            "\u001b[0;31m---------------------------------------------------------------------------\u001b[0m",
            "\u001b[0;31mFileNotFoundError\u001b[0m                         Traceback (most recent call last)",
            "\u001b[0;32m<ipython-input-10-e38e1e59d312>\u001b[0m in \u001b[0;36m<cell line: 0>\u001b[0;34m()\u001b[0m\n\u001b[1;32m     24\u001b[0m \u001b[0;34m\u001b[0m\u001b[0m\n\u001b[1;32m     25\u001b[0m \u001b[0;31m# Extract the 'punkt' tokenizer model from the zip file\u001b[0m\u001b[0;34m\u001b[0m\u001b[0;34m\u001b[0m\u001b[0m\n\u001b[0;32m---> 26\u001b[0;31m \u001b[0;32mwith\u001b[0m \u001b[0mzipfile\u001b[0m\u001b[0;34m.\u001b[0m\u001b[0mZipFile\u001b[0m\u001b[0;34m(\u001b[0m\u001b[0;34m\"punkt.zip\"\u001b[0m\u001b[0;34m,\u001b[0m \u001b[0;34m\"r\"\u001b[0m\u001b[0;34m)\u001b[0m \u001b[0;32mas\u001b[0m \u001b[0mzip_ref\u001b[0m\u001b[0;34m:\u001b[0m  \u001b[0;31m# NLTK requires the punkt tokenizer model\u001b[0m\u001b[0;34m\u001b[0m\u001b[0;34m\u001b[0m\u001b[0m\n\u001b[0m\u001b[1;32m     27\u001b[0m     \u001b[0mzip_ref\u001b[0m\u001b[0;34m.\u001b[0m\u001b[0mextractall\u001b[0m\u001b[0;34m(\u001b[0m\u001b[0mnltk_path\u001b[0m\u001b[0;34m)\u001b[0m\u001b[0;34m\u001b[0m\u001b[0;34m\u001b[0m\u001b[0m\n\u001b[1;32m     28\u001b[0m     \u001b[0mprint\u001b[0m\u001b[0;34m(\u001b[0m\u001b[0;34m\"Extracted `punkt` successfully!\"\u001b[0m\u001b[0;34m)\u001b[0m\u001b[0;34m\u001b[0m\u001b[0;34m\u001b[0m\u001b[0m\n",
            "\u001b[0;32m/usr/lib/python3.11/zipfile.py\u001b[0m in \u001b[0;36m__init__\u001b[0;34m(self, file, mode, compression, allowZip64, compresslevel, strict_timestamps, metadata_encoding)\u001b[0m\n\u001b[1;32m   1293\u001b[0m             \u001b[0;32mwhile\u001b[0m \u001b[0;32mTrue\u001b[0m\u001b[0;34m:\u001b[0m\u001b[0;34m\u001b[0m\u001b[0;34m\u001b[0m\u001b[0m\n\u001b[1;32m   1294\u001b[0m                 \u001b[0;32mtry\u001b[0m\u001b[0;34m:\u001b[0m\u001b[0;34m\u001b[0m\u001b[0;34m\u001b[0m\u001b[0m\n\u001b[0;32m-> 1295\u001b[0;31m                     \u001b[0mself\u001b[0m\u001b[0;34m.\u001b[0m\u001b[0mfp\u001b[0m \u001b[0;34m=\u001b[0m \u001b[0mio\u001b[0m\u001b[0;34m.\u001b[0m\u001b[0mopen\u001b[0m\u001b[0;34m(\u001b[0m\u001b[0mfile\u001b[0m\u001b[0;34m,\u001b[0m \u001b[0mfilemode\u001b[0m\u001b[0;34m)\u001b[0m\u001b[0;34m\u001b[0m\u001b[0;34m\u001b[0m\u001b[0m\n\u001b[0m\u001b[1;32m   1296\u001b[0m                 \u001b[0;32mexcept\u001b[0m \u001b[0mOSError\u001b[0m\u001b[0;34m:\u001b[0m\u001b[0;34m\u001b[0m\u001b[0;34m\u001b[0m\u001b[0m\n\u001b[1;32m   1297\u001b[0m                     \u001b[0;32mif\u001b[0m \u001b[0mfilemode\u001b[0m \u001b[0;32min\u001b[0m \u001b[0mmodeDict\u001b[0m\u001b[0;34m:\u001b[0m\u001b[0;34m\u001b[0m\u001b[0;34m\u001b[0m\u001b[0m\n",
            "\u001b[0;31mFileNotFoundError\u001b[0m: [Errno 2] No such file or directory: 'punkt.zip'"
          ]
        }
      ],
      "source": [
        "# Install NLTK\n",
        "!pip install nltk\n",
        "\n",
        "# Import necessary libraries\n",
        "import nltk\n",
        "import os\n",
        "import zipfile\n",
        "nltk.download('punkt')\n",
        "nltk.download('punkt_tab')\n",
        "# Check NLTK version\n",
        "print(nltk.__version__)\n",
        "\n",
        "# Get current working directory\n",
        "print(os.getcwd())\n",
        "\n",
        "# Define the NLTK data path for tokenizers\n",
        "nltk_path = os.path.expanduser(\"drive/nltk_data/tokenizers\")\n",
        "os.makedirs(nltk_path, exist_ok=True)\n",
        "print(f\"Created directory: {nltk_path}\")\n",
        "\n",
        "# Update NLTK data path\n",
        "nltk.data.path.append(os.path.expanduser(\"drive/nltk_data\"))\n",
        "print(\"NLTK path updated!\")\n",
        "\n",
        "# Extract the 'punkt' tokenizer model from the zip file\n",
        "with zipfile.ZipFile(\"punkt.zip\", \"r\") as zip_ref:  # NLTK requires the punkt tokenizer model\n",
        "    zip_ref.extractall(nltk_path)\n",
        "    print(\"Extracted `punkt` successfully!\")\n"
      ]
    },
    {
      "cell_type": "code",
      "execution_count": null,
      "metadata": {
        "colab": {
          "base_uri": "https://localhost:8080/"
        },
        "id": "9uWSP22s9Ti4",
        "outputId": "4929cb7a-b852-4e24-8008-fcd504e2cc7d"
      },
      "outputs": [
        {
          "name": "stderr",
          "output_type": "stream",
          "text": [
            "[nltk_data] Downloading package punkt to /root/nltk_data...\n",
            "[nltk_data]   Package punkt is already up-to-date!\n"
          ]
        },
        {
          "data": {
            "text/plain": [
              "True"
            ]
          },
          "execution_count": 6,
          "metadata": {},
          "output_type": "execute_result"
        }
      ],
      "source": []
    },
    {
      "cell_type": "code",
      "execution_count": 1,
      "metadata": {
        "colab": {
          "base_uri": "https://localhost:8080/"
        },
        "id": "jqVDWgcp4MHf",
        "outputId": "836f1c9c-1c83-4a2f-e37a-02f9e66748a7"
      },
      "outputs": [
        {
          "name": "stderr",
          "output_type": "stream",
          "text": [
            "[nltk_data] Downloading package punkt to C:\\Users\\raman/nltk_data...\n",
            "[nltk_data]   Package punkt is already up-to-date!\n",
            "[nltk_data] Downloading package stopwords to\n",
            "[nltk_data]     C:\\Users\\raman/nltk_data...\n",
            "[nltk_data]   Package stopwords is already up-to-date!\n"
          ]
        },
        {
          "name": "stdout",
          "output_type": "stream",
          "text": [
            "hi! my name is ramandeep singh.\n",
            "Filtered Tokens (without stopwords): ['hi', 'name', 'ramandeep', 'singh']\n",
            "\n",
            "Word Frequency Distribution:\n",
            "hi: 1\n",
            "name: 1\n",
            "ramandeep: 1\n",
            "singh: 1\n"
          ]
        }
      ],
      "source": [
        "import nltk\n",
        "import string\n",
        "from nltk.corpus import stopwords\n",
        "from nltk.tokenize import word_tokenize\n",
        "from collections import Counter\n",
        "\n",
        "# Download required resources\n",
        "nltk.download('punkt')\n",
        "nltk.download('stopwords')\n",
        "\n",
        "# Original text\n",
        "text = \"Hi! My name is Ramandeep Singh.\"\n",
        "\n",
        "# 1. Convert text to lowercase and remove punctuation\n",
        "text_lower = text.lower()\n",
        "text_clean = text_lower.translate(str.maketrans(\"\", \"\", string.punctuation))\n",
        "print(text_lower)\n",
        "\n",
        "# 2. Tokenize and remove stopwords\n",
        "tokens = word_tokenize(text_clean)\n",
        "stop_words = set(stopwords.words('english'))\n",
        "filtered_tokens = [word for word in tokens if word not in stop_words]\n",
        "\n",
        "# 3. Display word frequency distribution\n",
        "word_freq = Counter(filtered_tokens)\n",
        "\n",
        "# Output\n",
        "print(\"Filtered Tokens (without stopwords):\", filtered_tokens)\n",
        "print(\"\\nWord Frequency Distribution:\")\n",
        "for word, freq in word_freq.items():\n",
        "    print(f\"{word}: {freq}\")\n"
      ]
    },
    {
      "cell_type": "markdown",
      "metadata": {
        "id": "Wl5Z9lZll1aK"
      },
      "source": [
        "Q2. Using the same paragraph from Q1:\n",
        "\n",
        "Extract all words with only alphabets using re.findall()\n",
        "\n",
        "Remove stop words using NLTK’s stopword list\n",
        "\n",
        "Perform stemming with PorterStemmer\n",
        "\n",
        "Perform lemmatization with WordNetLemmatizer\n",
        "\n",
        "Compare the stemmed and lemmatized outputs and explain when you’d prefer one over the other."
      ]
    },
    {
      "cell_type": "code",
      "execution_count": null,
      "metadata": {
        "colab": {
          "base_uri": "https://localhost:8080/",
          "height": 378
        },
        "id": "rB1fscGHl9yF",
        "outputId": "7aa6aba6-c6b8-4e33-e239-ab7453d717fe"
      },
      "outputs": [
        {
          "name": "stderr",
          "output_type": "stream",
          "text": [
            "[nltk_data] Downloading package punkt to /root/nltk_data...\n",
            "[nltk_data]   Unzipping tokenizers/punkt.zip.\n",
            "[nltk_data] Downloading package stopwords to /root/nltk_data...\n",
            "[nltk_data]   Unzipping corpora/stopwords.zip.\n",
            "[nltk_data] Downloading package punkt_tab to /root/nltk_data...\n",
            "[nltk_data]   Unzipping tokenizers/punkt_tab.zip.\n",
            "[nltk_data] Downloading package wordnet to /root/nltk_data...\n"
          ]
        },
        {
          "name": "stdout",
          "output_type": "stream",
          "text": [
            "['Technology', 'is', 'evolving', 'at', 'a', 'rapid', 'pace', 'transforming', 'the', 'way', 'we', 'live', 'work', 'and', 'communicate', 'Artificial', 'Intelligence', 'is', 'at', 'the', 'heart', 'of', 'many', 'modern', 'innovations', 'From', 'voice', 'assistants', 'to', 'self', 'driving', 'cars', 'the', 'applications', 'are', 'limitless', 'Cloud', 'computing', 'and', 'big', 'data', 'are', 'enabling', 'faster', 'processing', 'and', 'better', 'insights', 'The', 'future', 'promises', 'even', 'more', 'revolutionary', 'advancements', 'in', 'this', 'space']\n"
          ]
        },
        {
          "ename": "NameError",
          "evalue": "name 'words' is not defined",
          "output_type": "error",
          "traceback": [
            "\u001b[0;31m---------------------------------------------------------------------------\u001b[0m",
            "\u001b[0;31mNameError\u001b[0m                                 Traceback (most recent call last)",
            "\u001b[0;32m<ipython-input-1-a3238ac69ba0>\u001b[0m in \u001b[0;36m<cell line: 0>\u001b[0;34m()\u001b[0m\n\u001b[1;32m     19\u001b[0m \u001b[0;34m\u001b[0m\u001b[0m\n\u001b[1;32m     20\u001b[0m \u001b[0mstop_words\u001b[0m\u001b[0;34m=\u001b[0m\u001b[0mset\u001b[0m\u001b[0;34m(\u001b[0m\u001b[0mstopwords\u001b[0m\u001b[0;34m.\u001b[0m\u001b[0mwords\u001b[0m\u001b[0;34m(\u001b[0m\u001b[0;34m'english'\u001b[0m\u001b[0;34m)\u001b[0m\u001b[0;34m)\u001b[0m\u001b[0;34m\u001b[0m\u001b[0;34m\u001b[0m\u001b[0m\n\u001b[0;32m---> 21\u001b[0;31m \u001b[0mfiltered_words\u001b[0m\u001b[0;34m=\u001b[0m\u001b[0;34m[\u001b[0m\u001b[0mword\u001b[0m \u001b[0;32mfor\u001b[0m \u001b[0mword\u001b[0m \u001b[0;32min\u001b[0m \u001b[0mwords\u001b[0m \u001b[0;32mif\u001b[0m \u001b[0mword\u001b[0m \u001b[0;32mnot\u001b[0m \u001b[0;32min\u001b[0m \u001b[0mstop_words\u001b[0m\u001b[0;34m]\u001b[0m\u001b[0;34m\u001b[0m\u001b[0;34m\u001b[0m\u001b[0m\n\u001b[0m\u001b[1;32m     22\u001b[0m \u001b[0mporter\u001b[0m\u001b[0;34m=\u001b[0m\u001b[0mPorterStemmer\u001b[0m\u001b[0;34m(\u001b[0m\u001b[0;34m)\u001b[0m\u001b[0;34m\u001b[0m\u001b[0;34m\u001b[0m\u001b[0m\n\u001b[1;32m     23\u001b[0m \u001b[0mstem_word\u001b[0m\u001b[0;34m=\u001b[0m\u001b[0;34m[\u001b[0m\u001b[0mporter\u001b[0m\u001b[0;34m.\u001b[0m\u001b[0mstem\u001b[0m\u001b[0;34m(\u001b[0m\u001b[0mword\u001b[0m\u001b[0;34m)\u001b[0m \u001b[0;32mfor\u001b[0m \u001b[0mword\u001b[0m \u001b[0;32min\u001b[0m \u001b[0mfiltered_words\u001b[0m\u001b[0;34m]\u001b[0m\u001b[0;34m\u001b[0m\u001b[0;34m\u001b[0m\u001b[0m\n",
            "\u001b[0;31mNameError\u001b[0m: name 'words' is not defined"
          ]
        }
      ],
      "source": [
        "import re\n",
        "import nltk\n",
        "from nltk.corpus import stopwords\n",
        "from nltk.tokenize import word_tokenize,sent_tokenize\n",
        "from nltk.probability import FreqDist\n",
        "from nltk.stem import PorterStemmer,WordNetLemmatizer\n",
        "nltk.download('punkt')\n",
        "nltk.download('stopwords')\n",
        "nltk.download('punkt_tab')\n",
        "nltk.download('wordnet')\n",
        "\n",
        "text = \"\"\"Technology is evolving at a rapid pace, transforming the way we live, work, and communicate.\n",
        "Artificial Intelligence is at the heart of many modern innovations. From voice assistants to self-driving cars,\n",
        "the applications are limitless. Cloud computing and big data are enabling faster processing and better insights.\n",
        "The future promises even more revolutionary advancements in this space.\"\"\"\n",
        "\n",
        "alphabets=re.findall(r'\\b[a-zA-Z]+\\b',text)\n",
        "print(alphabets)\n",
        "\n",
        "stop_words=set(stopwords.words('english'))\n",
        "filtered_words=[word for word in words if word not in stop_words]\n",
        "porter=PorterStemmer()\n",
        "stem_word=[porter.stem(word) for word in filtered_words]\n",
        "print(stem_word)\n",
        "\n",
        "lema=WordNetLemmatizer()\n",
        "lem_words=[lema.lemmatize(word) for word in filtered_words]\n",
        "print(lem_words)\n",
        "for i in range(min(10,len(filtered_words))):\n",
        "    print(f\"Original: {filtered_words[i]}, Stemmed: {stem_word[i]}, Lemmatized: {lem_words[i]}\")"
      ]
    },
    {
      "cell_type": "markdown",
      "metadata": {
        "id": "CVBCjpWwmM25"
      },
      "source": [
        "Q3. Choose 3 short texts of your own (e.g., different news headlines, product reviews).\n",
        "\n",
        "Use CountVectorizer to generate the Bag of Words representation.\n",
        "\n",
        "Use TfidfVectorizer to compute TF-IDF scores.\n",
        "\n",
        "Print and interpret the top 3 keywords from each text using TF-IDF."
      ]
    },
    {
      "cell_type": "code",
      "execution_count": null,
      "metadata": {
        "colab": {
          "base_uri": "https://localhost:8080/"
        },
        "id": "ZeP-scmfmSfl",
        "outputId": "75cee05a-f916-4956-8abc-2e4eaabce8c9"
      },
      "outputs": [
        {
          "name": "stdout",
          "output_type": "stream",
          "text": [
            "Bag of Words -> ['amazing' 'an' 'and' 'battery' 'camera' 'design' 'drains' 'has'\n",
            " 'interface' 'life' 'love' 'new' 'not' 'of' 'phone' 'product' 'quickly'\n",
            " 'satisfied' 'the' 'this' 'user' 'with']\n",
            "TF-IDF -> ['amazing' 'an' 'and' 'battery' 'camera' 'design' 'drains' 'has'\n",
            " 'interface' 'life' 'love' 'new' 'not' 'of' 'phone' 'product' 'quickly'\n",
            " 'satisfied' 'the' 'this' 'user' 'with']\n",
            "[[0.35171117 0.35171117 0.26748541 0.26748541 0.35171117 0.\n",
            "  0.         0.35171117 0.         0.35171117 0.         0.35171117\n",
            "  0.         0.         0.26748541 0.         0.         0.\n",
            "  0.20772628 0.         0.         0.        ]\n",
            " [0.         0.         0.27760064 0.         0.         0.36501149\n",
            "  0.         0.         0.36501149 0.         0.36501149 0.\n",
            "  0.         0.36501149 0.27760064 0.         0.         0.\n",
            "  0.21558166 0.36501149 0.36501149 0.        ]\n",
            " [0.         0.         0.         0.28895767 0.         0.\n",
            "  0.37994462 0.         0.         0.         0.         0.\n",
            "  0.37994462 0.         0.         0.37994462 0.37994462 0.37994462\n",
            "  0.22440141 0.         0.         0.37994462]]\n",
            "[('an', np.float64(0.35171116554385984)), ('amazing', np.float64(0.35171116554385984)), ('has', np.float64(0.35171116554385984))]\n",
            "[('user', np.float64(0.36501148642845177)), ('this', np.float64(0.36501148642845177)), ('design', np.float64(0.36501148642845177))]\n",
            "[('with', np.float64(0.3799446164315741)), ('quickly', np.float64(0.3799446164315741)), ('satisfied', np.float64(0.3799446164315741))]\n"
          ]
        }
      ],
      "source": [
        "\n",
        "from sklearn.feature_extraction.text import CountVectorizer, TfidfVectorizer\n",
        "import numpy as np\n",
        "\n",
        "texts = [\n",
        "    \"The new phone has an amazing camera and battery life.\",\n",
        "    \"I love the user interface and design of this phone.\",\n",
        "    \"Battery drains quickly, not satisfied with the product.\"\n",
        "]\n",
        "count_vector=CountVectorizer()\n",
        "bow_matrix=count_vector.fit_transform(texts)\n",
        "print(f\"Bag of Words -> {count_vector.get_feature_names_out()}\")\n",
        "\n",
        "tfidf=TfidfVectorizer()\n",
        "tfidfmatrix=tfidf.fit_transform(texts)\n",
        "print(f\"TF-IDF -> {tfidf.get_feature_names_out()}\")\n",
        "print(tfidfmatrix.toarray())\n",
        "for i,row in enumerate(tfidfmatrix.toarray()):\n",
        "  top_idx=row.argsort()[-3:][::-1]\n",
        "  keywords=[(tfidf.get_feature_names_out()[idx],row[idx]) for idx in top_idx]\n",
        "  print(keywords)"
      ]
    },
    {
      "cell_type": "markdown",
      "metadata": {
        "id": "W-iNpClvmVn1"
      },
      "source": [
        "Q4. Write 2 short texts (4–6 lines each) describing two different technologies (e.g., AI vs Blockchain).\n",
        "\n",
        "Preprocess and tokenize both texts.\n",
        "Calculate:\n",
        "a. Jaccard Similarity using sets\n",
        "\n",
        "b. Cosine Similarity using TfidfVectorizer + cosine_similarity()\n",
        "\n",
        "c. Analyze which similarity metric gives beƩer insights in your case."
      ]
    },
    {
      "cell_type": "code",
      "execution_count": null,
      "metadata": {
        "colab": {
          "base_uri": "https://localhost:8080/"
        },
        "id": "j74JbX2NmZTx",
        "outputId": "baa6ae9e-6237-4235-e159-817e5d9727b1"
      },
      "outputs": [
        {
          "name": "stdout",
          "output_type": "stream",
          "text": [
            "Jaccard Similarity is 0.0\n",
            "Cosine Similarity is 0.07300354822013207\n"
          ]
        }
      ],
      "source": [
        "import re\n",
        "import nltk\n",
        "from nltk.corpus import stopwords\n",
        "from nltk.tokenize import word_tokenize,sent_tokenize\n",
        "from nltk.probability import FreqDist\n",
        "from nltk.stem import PorterStemmer,WordNetLemmatizer\n",
        "from sklearn.feature_extraction.text import CountVectorizer, TfidfVectorizer\n",
        "from sklearn.metrics.pairwise import cosine_similarity\n",
        "text1 = \"Artificial Intelligence enables machines to learn from data and perform tasks that require human intelligence.\"\n",
        "text2 = \"Blockchain is a decentralized technology that ensures secure and transparent transactions using distributed ledgers.\"\n",
        "stop_words=set(stopwords.words('english'))\n",
        "def preprocess(text):\n",
        "  return [word for word in word_tokenize(text) if word.isalpha() and word not in stop_words]\n",
        "\n",
        "tokens1=set(preprocess(text1))\n",
        "tokens2=set(preprocess(text2))\n",
        "intersection=tokens1.intersection(tokens2)\n",
        "union=tokens1.union(tokens2)\n",
        "jaccard_similiarity=len(intersection)/len(union)\n",
        "print(f\"Jaccard Similarity is {jaccard_similiarity}\")\n",
        "\n",
        "tfidf=TfidfVectorizer()\n",
        "tfidfmatrix=tfidf.fit_transform([text1,text2])\n",
        "cos_sim=cosine_similarity(tfidfmatrix[0:1],tfidfmatrix[1:2])[0][0]\n",
        "print(f\"Cosine Similarity is {cos_sim}\")"
      ]
    },
    {
      "cell_type": "markdown",
      "metadata": {
        "id": "JB4Sz5anmXB8"
      },
      "source": [
        "Q5. Write a short review for a product or service.\n",
        "\n",
        "Use TextBlob or VADER to find polarity & subjectivity for each review.\n",
        "\n",
        "Classify reviews into Positive / Negative / Neutral.\n",
        "\n",
        "Create a word cloud using the wordcloud library for all positive reviews."
      ]
    },
    {
      "cell_type": "code",
      "execution_count": null,
      "metadata": {
        "colab": {
          "base_uri": "https://localhost:8080/",
          "height": 468
        },
        "id": "yU1wDcQomf-U",
        "outputId": "b33df5a9-c139-438d-85ae-2a6437054ee7"
      },
      "outputs": [
        {
          "name": "stdout",
          "output_type": "stream",
          "text": [
            "Positive\n",
            "Review :I love this phone! The camera is superb and performance is smooth.\n",
            "Subjectivity:0.7000000000000001\n",
            "Negative\n",
            "Review :Not impressed. The battery life is terrible.\n",
            "Subjectivity:1.0\n",
            "Positive\n",
            "Review :It's okay, nothing special but does the job.\n",
            "Subjectivity:0.5357142857142857\n"
          ]
        },
        {
          "data": {
            "image/png": "[encoded data removed]",
            "text/plain": [
              "<Figure size 640x480 with 1 Axes>"
            ]
          },
          "metadata": {},
          "output_type": "display_data"
        }
      ],
      "source": [
        "from wordcloud import WordCloud\n",
        "from textblob import TextBlob\n",
        "import matplotlib.pyplot as plt\n",
        "reviews = [\n",
        "    \"I love this phone! The camera is superb and performance is smooth.\",\n",
        "    \"Not impressed. The battery life is terrible.\",\n",
        "    \"It's okay, nothing special but does the job.\"\n",
        "]\n",
        "for review in reviews:\n",
        "  blob=TextBlob(review)\n",
        "  polarity=blob.sentiment.polarity;\n",
        "  subjectivity=blob.sentiment.subjectivity\n",
        "  if(polarity>0):\n",
        "      print(\"Positive\")\n",
        "  elif(polarity<0):\n",
        "      print(\"Negative\")\n",
        "  else:\n",
        "      print(\"Neutral\")\n",
        "\n",
        "  print(f\"Review :{review}\")\n",
        "  print(f\"Subjectivity:{subjectivity}\")\n",
        "\n",
        "positive_reviews = \" \".join([r for r in reviews if TextBlob(r).sentiment.polarity>0])\n",
        "wordcloud=WordCloud().generate(positive_reviews)\n",
        "plt.figure()\n",
        "plt.imshow(wordcloud,interpolation='bilinear')\n",
        "plt.axis(\"off\")\n",
        "plt.title(\"Word Cloud - Positive Reviews\")\n",
        "plt.show()"
      ]
    },
    {
      "cell_type": "markdown",
      "metadata": {
        "id": "u2hSyTBJmh_x"
      },
      "source": [
        "Q6. Choose your own paragraph (~100 words) as training data.\n",
        "\n",
        "Tokenize text using Tokenizer() from keras.preprocessing.text\n",
        "\n",
        "Create input sequences and build a simple LSTM or Dense model\n",
        "\n",
        "Train the model and generate 2–3 new lines of text starting from any seed word you provide."
      ]
    },
    {
      "cell_type": "code",
      "execution_count": null,
      "metadata": {
        "colab": {
          "base_uri": "https://localhost:8080/"
        },
        "id": "SoSEXohRmmsB",
        "outputId": "250cb0c4-f68a-4b35-ff12-68ec698b7051"
      },
      "outputs": [
        {
          "name": "stdout",
          "output_type": "stream",
          "text": [
            "Epoch 1/50\n"
          ]
        },
        {
          "name": "stderr",
          "output_type": "stream",
          "text": [
            "/usr/local/lib/python3.11/dist-packages/keras/src/layers/core/embedding.py:90: UserWarning: Argument `input_length` is deprecated. Just remove it.\n",
            "  warnings.warn(\n"
          ]
        },
        {
          "name": "stdout",
          "output_type": "stream",
          "text": [
            "\u001b[1m4/4\u001b[0m \u001b[32m━━━━━━━━━━━━━━━━━━━━\u001b[0m\u001b[37m\u001b[0m \u001b[1m6s\u001b[0m 266ms/step - accuracy: 0.0334 - loss: 4.4550\n",
            "Epoch 2/50\n",
            "\u001b[1m4/4\u001b[0m \u001b[32m━━━━━━━━━━━━━━━━━━━━\u001b[0m\u001b[37m\u001b[0m \u001b[1m1s\u001b[0m 265ms/step - accuracy: 0.0804 - loss: 4.4429\n",
            "Epoch 3/50\n",
            "\u001b[1m4/4\u001b[0m \u001b[32m━━━━━━━━━━━━━━━━━━━━\u001b[0m\u001b[37m\u001b[0m \u001b[1m2s\u001b[0m 352ms/step - accuracy: 0.0773 - loss: 4.4226\n",
            "Epoch 4/50\n",
            "\u001b[1m4/4\u001b[0m \u001b[32m━━━━━━━━━━━━━━━━━━━━\u001b[0m\u001b[37m\u001b[0m \u001b[1m2s\u001b[0m 484ms/step - accuracy: 0.0627 - loss: 4.3644\n",
            "Epoch 5/50\n",
            "\u001b[1m4/4\u001b[0m \u001b[32m━━━━━━━━━━━━━━━━━━━━\u001b[0m\u001b[37m\u001b[0m \u001b[1m2s\u001b[0m 252ms/step - accuracy: 0.0773 - loss: 4.2773\n",
            "Epoch 6/50\n",
            "\u001b[1m4/4\u001b[0m \u001b[32m━━━━━━━━━━━━━━━━━━━━\u001b[0m\u001b[37m\u001b[0m \u001b[1m1s\u001b[0m 261ms/step - accuracy: 0.0862 - loss: 4.1642\n",
            "Epoch 7/50\n",
            "\u001b[1m4/4\u001b[0m \u001b[32m━━━━━━━━━━━━━━━━━━━━\u001b[0m\u001b[37m\u001b[0m \u001b[1m1s\u001b[0m 263ms/step - accuracy: 0.0809 - loss: 4.1303\n",
            "Epoch 8/50\n",
            "\u001b[1m4/4\u001b[0m \u001b[32m━━━━━━━━━━━━━━━━━━━━\u001b[0m\u001b[37m\u001b[0m \u001b[1m1s\u001b[0m 264ms/step - accuracy: 0.0716 - loss: 4.1490\n",
            "Epoch 9/50\n",
            "\u001b[1m4/4\u001b[0m \u001b[32m━━━━━━━━━━━━━━━━━━━━\u001b[0m\u001b[37m\u001b[0m \u001b[1m1s\u001b[0m 258ms/step - accuracy: 0.0726 - loss: 4.0231\n",
            "Epoch 10/50\n",
            "\u001b[1m4/4\u001b[0m \u001b[32m━━━━━━━━━━━━━━━━━━━━\u001b[0m\u001b[37m\u001b[0m \u001b[1m1s\u001b[0m 273ms/step - accuracy: 0.0716 - loss: 3.9753\n",
            "Epoch 11/50\n",
            "\u001b[1m4/4\u001b[0m \u001b[32m━━━━━━━━━━━━━━━━━━━━\u001b[0m\u001b[37m\u001b[0m \u001b[1m1s\u001b[0m 263ms/step - accuracy: 0.0961 - loss: 3.8583\n",
            "Epoch 12/50\n",
            "\u001b[1m4/4\u001b[0m \u001b[32m━━━━━━━━━━━━━━━━━━━━\u001b[0m\u001b[37m\u001b[0m \u001b[1m1s\u001b[0m 263ms/step - accuracy: 0.0987 - loss: 3.8148\n",
            "Epoch 13/50\n",
            "\u001b[1m4/4\u001b[0m \u001b[32m━━━━━━━━━━━━━━━━━━━━\u001b[0m\u001b[37m\u001b[0m \u001b[1m2s\u001b[0m 476ms/step - accuracy: 0.0982 - loss: 3.8189\n",
            "Epoch 14/50\n",
            "\u001b[1m4/4\u001b[0m \u001b[32m━━━━━━━━━━━━━━━━━━━━\u001b[0m\u001b[37m\u001b[0m \u001b[1m2s\u001b[0m 353ms/step - accuracy: 0.0960 - loss: 3.7663\n",
            "Epoch 15/50\n",
            "\u001b[1m4/4\u001b[0m \u001b[32m━━━━━━━━━━━━━━━━━━━━\u001b[0m\u001b[37m\u001b[0m \u001b[1m1s\u001b[0m 271ms/step - accuracy: 0.1253 - loss: 3.6721\n",
            "Epoch 16/50\n",
            "\u001b[1m4/4\u001b[0m \u001b[32m━━━━━━━━━━━━━━━━━━━━\u001b[0m\u001b[37m\u001b[0m \u001b[1m1s\u001b[0m 284ms/step - accuracy: 0.0939 - loss: 3.6239\n",
            "Epoch 17/50\n",
            "\u001b[1m4/4\u001b[0m \u001b[32m━━━━━━━━━━━━━━━━━━━━\u001b[0m\u001b[37m\u001b[0m \u001b[1m1s\u001b[0m 262ms/step - accuracy: 0.0616 - loss: 3.5786\n",
            "Epoch 18/50\n",
            "\u001b[1m4/4\u001b[0m \u001b[32m━━━━━━━━━━━━━━━━━━━━\u001b[0m\u001b[37m\u001b[0m \u001b[1m1s\u001b[0m 257ms/step - accuracy: 0.1107 - loss: 3.5142\n",
            "Epoch 19/50\n",
            "\u001b[1m4/4\u001b[0m \u001b[32m━━━━━━━━━━━━━━━━━━━━\u001b[0m\u001b[37m\u001b[0m \u001b[1m1s\u001b[0m 266ms/step - accuracy: 0.0987 - loss: 3.4328\n",
            "Epoch 20/50\n",
            "\u001b[1m4/4\u001b[0m \u001b[32m━━━━━━━━━━━━━━━━━━━━\u001b[0m\u001b[37m\u001b[0m \u001b[1m1s\u001b[0m 257ms/step - accuracy: 0.0893 - loss: 3.4337\n",
            "Epoch 21/50\n",
            "\u001b[1m4/4\u001b[0m \u001b[32m━━━━━━━━━━━━━━━━━━━━\u001b[0m\u001b[37m\u001b[0m \u001b[1m1s\u001b[0m 261ms/step - accuracy: 0.1050 - loss: 3.4132\n",
            "Epoch 22/50\n",
            "\u001b[1m4/4\u001b[0m \u001b[32m━━━━━━━━━━━━━━━━━━━━\u001b[0m\u001b[37m\u001b[0m \u001b[1m1s\u001b[0m 275ms/step - accuracy: 0.0893 - loss: 3.3359\n",
            "Epoch 23/50\n",
            "\u001b[1m4/4\u001b[0m \u001b[32m━━━━━━━━━━━━━━━━━━━━\u001b[0m\u001b[37m\u001b[0m \u001b[1m2s\u001b[0m 486ms/step - accuracy: 0.1086 - loss: 3.2595\n",
            "Epoch 24/50\n",
            "\u001b[1m4/4\u001b[0m \u001b[32m━━━━━━━━━━━━━━━━━━━━\u001b[0m\u001b[37m\u001b[0m \u001b[1m2s\u001b[0m 261ms/step - accuracy: 0.0960 - loss: 3.2809\n",
            "Epoch 25/50\n",
            "\u001b[1m4/4\u001b[0m \u001b[32m━━━━━━━━━━━━━━━━━━━━\u001b[0m\u001b[37m\u001b[0m \u001b[1m1s\u001b[0m 266ms/step - accuracy: 0.1352 - loss: 3.1153\n",
            "Epoch 26/50\n",
            "\u001b[1m4/4\u001b[0m \u001b[32m━━━━━━━━━━━━━━━━━━━━\u001b[0m\u001b[37m\u001b[0m \u001b[1m1s\u001b[0m 261ms/step - accuracy: 0.1013 - loss: 3.1216\n",
            "Epoch 27/50\n",
            "\u001b[1m4/4\u001b[0m \u001b[32m━━━━━━━━━━━━━━━━━━━━\u001b[0m\u001b[37m\u001b[0m \u001b[1m1s\u001b[0m 265ms/step - accuracy: 0.1148 - loss: 3.1146\n",
            "Epoch 28/50\n",
            "\u001b[1m4/4\u001b[0m \u001b[32m━━━━━━━━━━━━━━━━━━━━\u001b[0m\u001b[37m\u001b[0m \u001b[1m1s\u001b[0m 261ms/step - accuracy: 0.1190 - loss: 3.0913\n",
            "Epoch 29/50\n",
            "\u001b[1m4/4\u001b[0m \u001b[32m━━━━━━━━━━━━━━━━━━━━\u001b[0m\u001b[37m\u001b[0m \u001b[1m1s\u001b[0m 275ms/step - accuracy: 0.1143 - loss: 3.0141\n",
            "Epoch 30/50\n",
            "\u001b[1m4/4\u001b[0m \u001b[32m━━━━━━━━━━━━━━━━━━━━\u001b[0m\u001b[37m\u001b[0m \u001b[1m1s\u001b[0m 274ms/step - accuracy: 0.0929 - loss: 2.9461\n",
            "Epoch 31/50\n",
            "\u001b[1m4/4\u001b[0m \u001b[32m━━━━━━━━━━━━━━━━━━━━\u001b[0m\u001b[37m\u001b[0m \u001b[1m1s\u001b[0m 263ms/step - accuracy: 0.1535 - loss: 2.8761\n",
            "Epoch 32/50\n",
            "\u001b[1m4/4\u001b[0m \u001b[32m━━━━━━━━━━━━━━━━━━━━\u001b[0m\u001b[37m\u001b[0m \u001b[1m2s\u001b[0m 408ms/step - accuracy: 0.1759 - loss: 2.8413\n",
            "Epoch 33/50\n",
            "\u001b[1m4/4\u001b[0m \u001b[32m━━━━━━━━━━━━━━━━━━━━\u001b[0m\u001b[37m\u001b[0m \u001b[1m2s\u001b[0m 438ms/step - accuracy: 0.1724 - loss: 2.7523\n",
            "Epoch 34/50\n",
            "\u001b[1m4/4\u001b[0m \u001b[32m━━━━━━━━━━━━━━━━━━━━\u001b[0m\u001b[37m\u001b[0m \u001b[1m2s\u001b[0m 271ms/step - accuracy: 0.1259 - loss: 2.7389\n",
            "Epoch 35/50\n",
            "\u001b[1m4/4\u001b[0m \u001b[32m━━━━━━━━━━━━━━━━━━━━\u001b[0m\u001b[37m\u001b[0m \u001b[1m1s\u001b[0m 269ms/step - accuracy: 0.1692 - loss: 2.7653\n",
            "Epoch 36/50\n",
            "\u001b[1m4/4\u001b[0m \u001b[32m━━━━━━━━━━━━━━━━━━━━\u001b[0m\u001b[37m\u001b[0m \u001b[1m1s\u001b[0m 258ms/step - accuracy: 0.1573 - loss: 2.6337\n",
            "Epoch 37/50\n",
            "\u001b[1m4/4\u001b[0m \u001b[32m━━━━━━━━━━━━━━━━━━━━\u001b[0m\u001b[37m\u001b[0m \u001b[1m1s\u001b[0m 258ms/step - accuracy: 0.1582 - loss: 2.6032\n",
            "Epoch 38/50\n",
            "\u001b[1m4/4\u001b[0m \u001b[32m━━━━━━━━━━━━━━━━━━━━\u001b[0m\u001b[37m\u001b[0m \u001b[1m1s\u001b[0m 276ms/step - accuracy: 0.1948 - loss: 2.5406\n",
            "Epoch 39/50\n",
            "\u001b[1m4/4\u001b[0m \u001b[32m━━━━━━━━━━━━━━━━━━━━\u001b[0m\u001b[37m\u001b[0m \u001b[1m1s\u001b[0m 263ms/step - accuracy: 0.1801 - loss: 2.5319\n",
            "Epoch 40/50\n",
            "\u001b[1m4/4\u001b[0m \u001b[32m━━━━━━━━━━━━━━━━━━━━\u001b[0m\u001b[37m\u001b[0m \u001b[1m1s\u001b[0m 264ms/step - accuracy: 0.1296 - loss: 2.5491\n",
            "Epoch 41/50\n",
            "\u001b[1m4/4\u001b[0m \u001b[32m━━━━━━━━━━━━━━━━━━━━\u001b[0m\u001b[37m\u001b[0m \u001b[1m1s\u001b[0m 342ms/step - accuracy: 0.1740 - loss: 2.5898\n",
            "Epoch 42/50\n",
            "\u001b[1m4/4\u001b[0m \u001b[32m━━━━━━━━━━━━━━━━━━━━\u001b[0m\u001b[37m\u001b[0m \u001b[1m2s\u001b[0m 478ms/step - accuracy: 0.2412 - loss: 2.3799\n",
            "Epoch 43/50\n",
            "\u001b[1m4/4\u001b[0m \u001b[32m━━━━━━━━━━━━━━━━━━━━\u001b[0m\u001b[37m\u001b[0m \u001b[1m1s\u001b[0m 256ms/step - accuracy: 0.1994 - loss: 2.4045\n",
            "Epoch 44/50\n",
            "\u001b[1m4/4\u001b[0m \u001b[32m━━━━━━━━━━━━━━━━━━━━\u001b[0m\u001b[37m\u001b[0m \u001b[1m1s\u001b[0m 261ms/step - accuracy: 0.2407 - loss: 2.4190\n",
            "Epoch 45/50\n",
            "\u001b[1m4/4\u001b[0m \u001b[32m━━━━━━━━━━━━━━━━━━━━\u001b[0m\u001b[37m\u001b[0m \u001b[1m1s\u001b[0m 268ms/step - accuracy: 0.1979 - loss: 2.3613\n",
            "Epoch 46/50\n",
            "\u001b[1m4/4\u001b[0m \u001b[32m━━━━━━━━━━━━━━━━━━━━\u001b[0m\u001b[37m\u001b[0m \u001b[1m1s\u001b[0m 266ms/step - accuracy: 0.1259 - loss: 2.4326\n",
            "Epoch 47/50\n",
            "\u001b[1m4/4\u001b[0m \u001b[32m━━━━━━━━━━━━━━━━━━━━\u001b[0m\u001b[37m\u001b[0m \u001b[1m1s\u001b[0m 279ms/step - accuracy: 0.2339 - loss: 2.3061\n",
            "Epoch 48/50\n",
            "\u001b[1m4/4\u001b[0m \u001b[32m━━━━━━━━━━━━━━━━━━━━\u001b[0m\u001b[37m\u001b[0m \u001b[1m1s\u001b[0m 258ms/step - accuracy: 0.3081 - loss: 2.2489\n",
            "Epoch 49/50\n",
            "\u001b[1m4/4\u001b[0m \u001b[32m━━━━━━━━━━━━━━━━━━━━\u001b[0m\u001b[37m\u001b[0m \u001b[1m1s\u001b[0m 265ms/step - accuracy: 0.3576 - loss: 2.2217\n",
            "Epoch 50/50\n",
            "\u001b[1m4/4\u001b[0m \u001b[32m━━━━━━━━━━━━━━━━━━━━\u001b[0m\u001b[37m\u001b[0m \u001b[1m1s\u001b[0m 271ms/step - accuracy: 0.2517 - loss: 2.2010\n",
            "Generated from 'Artificial':\n",
            "Artificial is intelligence intelligence is intelligence intelligence every\n",
            "\n",
            "Generated from 'Intelligence':\n",
            "Intelligence intelligence intelligence is intelligence intelligence every of\n",
            "\n",
            "Generated from 'Neural networks':\n",
            "Neural networks intelligence intelligence intelligence every the industry every\n"
          ]
        }
      ],
      "source": [
        "from tensorflow.keras.preprocessing.text import Tokenizer\n",
        "from tensorflow.keras.utils import pad_sequences\n",
        "from tensorflow.keras.models import Sequential\n",
        "from tensorflow.keras.layers import Embedding, LSTM, Dense, Dropout\n",
        "from tensorflow.keras.callbacks import EarlyStopping\n",
        "import numpy as np\n",
        "\n",
        "paragraph = \"\"\"Artificial Intelligence is changing the future of every industry and every human being.\n",
        "It has acted as the main driver of emerging technologies like big data, robotics and IoT.\n",
        "With tools like ChatGPT and deep learning, machines now perform creative tasks like writing, designing and even coding.\n",
        "AI systems can process vast amounts of data and identify patterns that humans might miss.\n",
        "The development of neural networks has enabled significant breakthroughs in image recognition, natural language processing, and game playing.\n",
        "Despite concerns about job displacement, AI is creating new opportunities and transforming existing roles.\n",
        "Ethical considerations in AI development include privacy, bias, transparency, and ensuring systems align with human values.\"\"\"\n",
        "\n",
        "tokenizer = Tokenizer()\n",
        "tokenizer.fit_on_texts([paragraph])\n",
        "total_words = len(tokenizer.word_index) + 1\n",
        "\n",
        "input_sequences = []\n",
        "for i in range(1, len(paragraph.split())):\n",
        "    n_gram_sequence = paragraph.lower().split()[:i+1]\n",
        "    input_sequences.append(n_gram_sequence)\n",
        "\n",
        "tokenized_sequences = []\n",
        "for seq in input_sequences:\n",
        "    token_list = tokenizer.texts_to_sequences([' '.join(seq)])[0]\n",
        "    if token_list:\n",
        "        tokenized_sequences.append(token_list)\n",
        "\n",
        "max_seq_len = max([len(seq) for seq in tokenized_sequences])\n",
        "input_sequences = pad_sequences(tokenized_sequences, maxlen=max_seq_len, padding='pre')\n",
        "\n",
        "xs = input_sequences[:, :-1]\n",
        "labels = input_sequences[:, -1]\n",
        "\n",
        "ys = np.zeros((len(labels), total_words))\n",
        "for i, label in enumerate(labels):\n",
        "    ys[i, label] = 1\n",
        "\n",
        "model = Sequential()\n",
        "model.add(Embedding(total_words, 64, input_length=max_seq_len - 1))\n",
        "model.add(LSTM(128, return_sequences=True))\n",
        "model.add(Dropout(0.2))\n",
        "model.add(LSTM(128))\n",
        "model.add(Dropout(0.2))\n",
        "model.add(Dense(total_words, activation='softmax'))\n",
        "\n",
        "model.compile(loss='categorical_crossentropy', optimizer='adam', metrics=['accuracy'])\n",
        "\n",
        "early_stopping = EarlyStopping(monitor='loss', patience=10, restore_best_weights=True)\n",
        "model.fit(xs, ys, epochs=50, verbose=1, callbacks=[early_stopping])\n",
        "\n",
        "def generate_text(seed_text, next_words=5):\n",
        "    for _ in range(next_words):\n",
        "        token_list = tokenizer.texts_to_sequences([seed_text.lower()])[0]\n",
        "        padded_token_list = pad_sequences([token_list], maxlen=max_seq_len - 1, padding='pre')\n",
        "        predicted_probs = model.predict(padded_token_list, verbose=0)[0]\n",
        "        top_indices = predicted_probs.argsort()[-3:][::-1]\n",
        "        selected_index = np.random.choice(top_indices, p=predicted_probs[top_indices]/np.sum(predicted_probs[top_indices]))\n",
        "        for word, idx in tokenizer.word_index.items():\n",
        "            if idx == selected_index:\n",
        "                output_word = word\n",
        "                break\n",
        "        seed_text += \" \" + output_word\n",
        "    return seed_text\n",
        "\n",
        "print(\"Generated from 'Artificial':\")\n",
        "print(generate_text(\"Artificial\", next_words=7))\n",
        "print(\"\\nGenerated from 'Intelligence':\")\n",
        "print(generate_text(\"Intelligence\", next_words=7))\n",
        "print(\"\\nGenerated from 'Neural networks':\")\n",
        "print(generate_text(\"Neural networks\", next_words=7))"
      ]
    }
  ],
  "metadata": {
    "colab": {
      "provenance": []
    },
    "kernelspec": {
      "display_name": "base",
      "language": "python",
      "name": "python3"
    },
    "language_info": {
      "codemirror_mode": {
        "name": "ipython",
        "version": 3
      },
      "file_extension": ".py",
      "mimetype": "text/x-python",
      "name": "python",
      "nbconvert_exporter": "python",
      "pygments_lexer": "ipython3",
      "version": "3.12.3"
    }
  },
  "nbformat": 4,
  "nbformat_minor": 0
}
